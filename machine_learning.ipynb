{
 "cells": [
  {
   "cell_type": "code",
   "execution_count": 1,
   "metadata": {
    "collapsed": false
   },
   "outputs": [],
   "source": [
    "import matplotlib.pyplot as plt\n",
    "import numpy as np\n",
    "import pandas as pd\n",
    "import utils\n",
    "from sklearn.preprocessing import StandardScaler as SS\n",
    "from sklearn.preprocessing import scale as sk_scale\n",
    "from sklearn.model_selection import train_test_split\n",
    "from sklearn.linear_model import RidgeCV\n",
    "from sklearn.linear_model import ElasticNetCV\n",
    "from sklearn.linear_model import LassoLarsCV\n",
    "from sklearn.svm import SVR\n",
    "\n",
    "%matplotlib inline"
   ]
  },
  {
   "cell_type": "code",
   "execution_count": 32,
   "metadata": {
    "collapsed": true
   },
   "outputs": [],
   "source": [
    "fires = utils.wrangle()"
   ]
  },
  {
   "cell_type": "code",
   "execution_count": 33,
   "metadata": {
    "collapsed": false
   },
   "outputs": [
    {
     "data": {
      "text/html": [
       "<div>\n",
       "<table border=\"1\" class=\"dataframe\">\n",
       "  <thead>\n",
       "    <tr style=\"text-align: right;\">\n",
       "      <th></th>\n",
       "      <th>X</th>\n",
       "      <th>Y</th>\n",
       "      <th>month</th>\n",
       "      <th>day</th>\n",
       "      <th>FFMC</th>\n",
       "      <th>DMC</th>\n",
       "      <th>DC</th>\n",
       "      <th>ISI</th>\n",
       "      <th>temp</th>\n",
       "      <th>RH</th>\n",
       "      <th>wind</th>\n",
       "      <th>rain</th>\n",
       "      <th>area</th>\n",
       "      <th>log</th>\n",
       "      <th>small</th>\n",
       "    </tr>\n",
       "  </thead>\n",
       "  <tbody>\n",
       "    <tr>\n",
       "      <th>0</th>\n",
       "      <td>7</td>\n",
       "      <td>5</td>\n",
       "      <td>3</td>\n",
       "      <td>6</td>\n",
       "      <td>86.2</td>\n",
       "      <td>26.2</td>\n",
       "      <td>94.3</td>\n",
       "      <td>5.1</td>\n",
       "      <td>8.2</td>\n",
       "      <td>51</td>\n",
       "      <td>6.7</td>\n",
       "      <td>0.0</td>\n",
       "      <td>0.0</td>\n",
       "      <td>0.0</td>\n",
       "      <td>True</td>\n",
       "    </tr>\n",
       "    <tr>\n",
       "      <th>1</th>\n",
       "      <td>7</td>\n",
       "      <td>4</td>\n",
       "      <td>10</td>\n",
       "      <td>3</td>\n",
       "      <td>90.6</td>\n",
       "      <td>35.4</td>\n",
       "      <td>669.1</td>\n",
       "      <td>6.7</td>\n",
       "      <td>18.0</td>\n",
       "      <td>33</td>\n",
       "      <td>0.9</td>\n",
       "      <td>0.0</td>\n",
       "      <td>0.0</td>\n",
       "      <td>0.0</td>\n",
       "      <td>True</td>\n",
       "    </tr>\n",
       "    <tr>\n",
       "      <th>2</th>\n",
       "      <td>7</td>\n",
       "      <td>4</td>\n",
       "      <td>10</td>\n",
       "      <td>7</td>\n",
       "      <td>90.6</td>\n",
       "      <td>43.7</td>\n",
       "      <td>686.9</td>\n",
       "      <td>6.7</td>\n",
       "      <td>14.6</td>\n",
       "      <td>33</td>\n",
       "      <td>1.3</td>\n",
       "      <td>0.0</td>\n",
       "      <td>0.0</td>\n",
       "      <td>0.0</td>\n",
       "      <td>True</td>\n",
       "    </tr>\n",
       "    <tr>\n",
       "      <th>3</th>\n",
       "      <td>8</td>\n",
       "      <td>6</td>\n",
       "      <td>3</td>\n",
       "      <td>6</td>\n",
       "      <td>91.7</td>\n",
       "      <td>33.3</td>\n",
       "      <td>77.5</td>\n",
       "      <td>9.0</td>\n",
       "      <td>8.3</td>\n",
       "      <td>97</td>\n",
       "      <td>4.0</td>\n",
       "      <td>0.2</td>\n",
       "      <td>0.0</td>\n",
       "      <td>0.0</td>\n",
       "      <td>True</td>\n",
       "    </tr>\n",
       "    <tr>\n",
       "      <th>4</th>\n",
       "      <td>8</td>\n",
       "      <td>6</td>\n",
       "      <td>3</td>\n",
       "      <td>1</td>\n",
       "      <td>89.3</td>\n",
       "      <td>51.3</td>\n",
       "      <td>102.2</td>\n",
       "      <td>9.6</td>\n",
       "      <td>11.4</td>\n",
       "      <td>99</td>\n",
       "      <td>1.8</td>\n",
       "      <td>0.0</td>\n",
       "      <td>0.0</td>\n",
       "      <td>0.0</td>\n",
       "      <td>True</td>\n",
       "    </tr>\n",
       "  </tbody>\n",
       "</table>\n",
       "</div>"
      ],
      "text/plain": [
       "   X  Y  month  day  FFMC   DMC     DC  ISI  temp  RH  wind  rain  area  log  \\\n",
       "0  7  5      3    6  86.2  26.2   94.3  5.1   8.2  51   6.7   0.0   0.0  0.0   \n",
       "1  7  4     10    3  90.6  35.4  669.1  6.7  18.0  33   0.9   0.0   0.0  0.0   \n",
       "2  7  4     10    7  90.6  43.7  686.9  6.7  14.6  33   1.3   0.0   0.0  0.0   \n",
       "3  8  6      3    6  91.7  33.3   77.5  9.0   8.3  97   4.0   0.2   0.0  0.0   \n",
       "4  8  6      3    1  89.3  51.3  102.2  9.6  11.4  99   1.8   0.0   0.0  0.0   \n",
       "\n",
       "  small  \n",
       "0  True  \n",
       "1  True  \n",
       "2  True  \n",
       "3  True  \n",
       "4  True  "
      ]
     },
     "execution_count": 33,
     "metadata": {},
     "output_type": "execute_result"
    }
   ],
   "source": [
    "fires.head()"
   ]
  },
  {
   "cell_type": "code",
   "execution_count": 3,
   "metadata": {
    "collapsed": true
   },
   "outputs": [],
   "source": [
    "def scale(train, test=None):\n",
    "    ss = SS()\n",
    "    x = ss.fit_transform(train)\n",
    "    if train!=None:\n",
    "        y = ss.transform(test)\n",
    "        return x, y\n",
    "    else:\n",
    "        return x"
   ]
  },
  {
   "cell_type": "markdown",
   "metadata": {},
   "source": [
    "# Ridge Regression"
   ]
  },
  {
   "cell_type": "code",
   "execution_count": 4,
   "metadata": {
    "collapsed": false
   },
   "outputs": [],
   "source": [
    "X = fires[fires.columns[4:12]].copy()\n",
    "X[:] = sk_scale(X)\n",
    "y1, y2 = sk_scale(fires[['area']]), sk_scale(fires[['log']])"
   ]
  },
  {
   "cell_type": "code",
   "execution_count": 5,
   "metadata": {
    "collapsed": true
   },
   "outputs": [],
   "source": [
    "Xtr, Xte, y1tr, y1te, y2tr, y2te = train_test_split(\n",
    "    X, y1, y2, random_state=7)"
   ]
  },
  {
   "cell_type": "code",
   "execution_count": 6,
   "metadata": {
    "collapsed": false
   },
   "outputs": [
    {
     "name": "stdout",
     "output_type": "stream",
     "text": [
      "0.000979431188506 1000\n"
     ]
    }
   ],
   "source": [
    "a = [1000]\n",
    "ridge1 = RidgeCV(alphas=a)\n",
    "ridge1 = ridge1.fit(Xtr, y1tr)\n",
    "print(ridge1.score(Xte, y1te), ridge1.alpha_)"
   ]
  },
  {
   "cell_type": "code",
   "execution_count": 7,
   "metadata": {
    "collapsed": false
   },
   "outputs": [
    {
     "name": "stdout",
     "output_type": "stream",
     "text": [
      "-0.0237321334568 1000\n"
     ]
    }
   ],
   "source": [
    "ridge2 = RidgeCV(alphas=a)\n",
    "ridge2 = ridge2.fit(Xtr, y2tr)\n",
    "print(ridge2.score(Xte, y2te), ridge2.alpha_)"
   ]
  },
  {
   "cell_type": "markdown",
   "metadata": {},
   "source": [
    "### non-scaled"
   ]
  },
  {
   "cell_type": "code",
   "execution_count": 8,
   "metadata": {
    "collapsed": true
   },
   "outputs": [],
   "source": [
    "X = fires[fires.columns[4:12]].copy()\n",
    "y1, y2 = fires[['area']].copy(), fires[['log']].copy()\n",
    "\n",
    "Xtr, Xte, y1tr, y1te, y2tr, y2te = train_test_split(\n",
    "    X, y1, y2, random_state=7)"
   ]
  },
  {
   "cell_type": "code",
   "execution_count": 9,
   "metadata": {
    "collapsed": false
   },
   "outputs": [
    {
     "name": "stdout",
     "output_type": "stream",
     "text": [
      "R^2:  -0.0252006578942 with alpha:  10000.0\n"
     ]
    }
   ],
   "source": [
    "a = [0.001, 0.01, 0.1, 1, 10, 100, 1000, 10000]\n",
    "ridge1 = RidgeCV(alphas=a)\n",
    "ridge1 = ridge1.fit(Xtr, y1tr)\n",
    "print(\"R^2: \",ridge1.score(Xte, y1te), \"with alpha: \", ridge1.alpha_)"
   ]
  },
  {
   "cell_type": "code",
   "execution_count": 10,
   "metadata": {
    "collapsed": false
   },
   "outputs": [
    {
     "name": "stdout",
     "output_type": "stream",
     "text": [
      "R^2:  -0.0253863118922 with alpha:  10000.0\n"
     ]
    }
   ],
   "source": [
    "a = [0.001, 0.01, 0.1, 1, 10, 100, 1000, 10000]\n",
    "ridge2 = RidgeCV(alphas=a)\n",
    "ridge2 = ridge2.fit(Xtr, y2tr)\n",
    "print(\"R^2: \",ridge2.score(Xte, y2te), \"with alpha: \", ridge2.alpha_)"
   ]
  },
  {
   "cell_type": "markdown",
   "metadata": {},
   "source": [
    "# ElasticNet "
   ]
  },
  {
   "cell_type": "markdown",
   "metadata": {},
   "source": [
    "### non-scaled"
   ]
  },
  {
   "cell_type": "code",
   "execution_count": 11,
   "metadata": {
    "collapsed": true
   },
   "outputs": [],
   "source": [
    "X = fires[fires.columns[4:12]].copy()\n",
    "y1, y2 = fires['area'].copy(), fires['log'].copy()\n",
    "\n",
    "Xtr, Xte, y1tr, y1te, y2tr, y2te = train_test_split(\n",
    "    X, y1, y2, random_state=7)"
   ]
  },
  {
   "cell_type": "code",
   "execution_count": 12,
   "metadata": {
    "collapsed": false
   },
   "outputs": [
    {
     "name": "stdout",
     "output_type": "stream",
     "text": [
      "R^2 : -0.025682691519 alpha:  10.802796017 l1:  0.1\n"
     ]
    }
   ],
   "source": [
    "l1s = [.1, .5, .7, .9, .95, .99, 1]\n",
    "net1 = ElasticNetCV(l1_ratio=l1s)\n",
    "net1 = net1.fit(Xtr, y1tr)\n",
    "print(\"R^2 :\", net1.score(Xte, y1te), \"alpha: \", net1.alpha_, \"l1: \", net1.l1_ratio_)"
   ]
  },
  {
   "cell_type": "code",
   "execution_count": 13,
   "metadata": {
    "collapsed": false
   },
   "outputs": [
    {
     "name": "stdout",
     "output_type": "stream",
     "text": [
      "R^2 : -0.0292347162203 alpha:  263.1390438 l1:  0.1\n"
     ]
    }
   ],
   "source": [
    "l1s = [.1, .5, .7, .9, .95, .99, 1]\n",
    "net2 = ElasticNetCV(l1_ratio=l1s)\n",
    "net2 = net2.fit(Xtr, y2tr)\n",
    "print(\"R^2 :\", net2.score(Xte, y2te), \"alpha: \", net2.alpha_, \"l1: \", net2.l1_ratio_)"
   ]
  },
  {
   "cell_type": "markdown",
   "metadata": {},
   "source": [
    "### scaled"
   ]
  },
  {
   "cell_type": "code",
   "execution_count": 14,
   "metadata": {
    "collapsed": true
   },
   "outputs": [],
   "source": [
    "X = fires[fires.columns[4:12]].copy()\n",
    "X[:] = sk_scale(X)\n",
    "y1, y2 = sk_scale(fires['area']), sk_scale(fires['log'])\n",
    "\n",
    "Xtr, Xte, y1tr, y1te, y2tr, y2te = train_test_split(\n",
    "    X, y1, y2, random_state=7)"
   ]
  },
  {
   "cell_type": "code",
   "execution_count": 15,
   "metadata": {
    "collapsed": false
   },
   "outputs": [
    {
     "name": "stdout",
     "output_type": "stream",
     "text": [
      "R^2 : -0.0107080584454 alpha:  0.0846640551719 l1:  0.1\n"
     ]
    }
   ],
   "source": [
    "l1s = [.1, .5, .7, .9, .95, .99, 1]\n",
    "net1 = ElasticNetCV(l1_ratio=l1s)\n",
    "net1 = net1.fit(Xtr, y1tr)\n",
    "print(\"R^2 :\", net1.score(Xte, y1te), \"alpha: \", net1.alpha_, \"l1: \", net1.l1_ratio_)"
   ]
  },
  {
   "cell_type": "code",
   "execution_count": 16,
   "metadata": {
    "collapsed": false
   },
   "outputs": [
    {
     "name": "stdout",
     "output_type": "stream",
     "text": [
      "R^2 : -0.0292347162203 alpha:  0.760004165201 l1:  0.1\n"
     ]
    }
   ],
   "source": [
    "l1s = [.1, .5, .7, .9, .95, .99, 1]\n",
    "net2 = ElasticNetCV(l1_ratio=l1s)\n",
    "net2 = net2.fit(Xtr, y2tr)\n",
    "print(\"R^2 :\", net2.score(Xte, y2te), \"alpha: \", net2.alpha_, \"l1: \", net2.l1_ratio_)"
   ]
  },
  {
   "cell_type": "markdown",
   "metadata": {},
   "source": [
    "# Lasso Lars"
   ]
  },
  {
   "cell_type": "markdown",
   "metadata": {},
   "source": [
    "### non-scaled"
   ]
  },
  {
   "cell_type": "code",
   "execution_count": 17,
   "metadata": {
    "collapsed": true
   },
   "outputs": [],
   "source": [
    "X = fires[fires.columns[4:12]].copy()\n",
    "y1, y2 = fires['area'].copy(), fires['log'].copy()\n",
    "\n",
    "Xtr, Xte, y1tr, y1te, y2tr, y2te = train_test_split(\n",
    "    X, y1, y2, random_state=7)"
   ]
  },
  {
   "cell_type": "code",
   "execution_count": 18,
   "metadata": {
    "collapsed": false
   },
   "outputs": [
    {
     "name": "stdout",
     "output_type": "stream",
     "text": [
      "R^2 : -0.0111905739914\n"
     ]
    }
   ],
   "source": [
    "l1 = LassoLarsCV()\n",
    "l1 = l1.fit(Xtr, y1tr)\n",
    "print(\"R^2 :\", l1.score(Xte, y1te))"
   ]
  },
  {
   "cell_type": "code",
   "execution_count": 19,
   "metadata": {
    "collapsed": false
   },
   "outputs": [
    {
     "name": "stdout",
     "output_type": "stream",
     "text": [
      "R^2 : -0.0292347162203\n"
     ]
    }
   ],
   "source": [
    "l2 = LassoLarsCV()\n",
    "l2 = l2.fit(Xtr, y2tr)\n",
    "print(\"R^2 :\", l2.score(Xte, y2te))"
   ]
  },
  {
   "cell_type": "markdown",
   "metadata": {},
   "source": [
    "### scaled"
   ]
  },
  {
   "cell_type": "code",
   "execution_count": 20,
   "metadata": {
    "collapsed": true
   },
   "outputs": [],
   "source": [
    "X = fires[fires.columns[4:12]].copy()\n",
    "X[:] = sk_scale(X)\n",
    "y1, y2 = sk_scale(fires['area']), sk_scale(fires['log'])\n",
    "\n",
    "Xtr, Xte, y1tr, y1te, y2tr, y2te = train_test_split(\n",
    "    X, y1, y2, random_state=7)"
   ]
  },
  {
   "cell_type": "code",
   "execution_count": 21,
   "metadata": {
    "collapsed": false
   },
   "outputs": [
    {
     "name": "stdout",
     "output_type": "stream",
     "text": [
      "R^2 : -0.0111905739914\n"
     ]
    }
   ],
   "source": [
    "l1 = LassoLarsCV()\n",
    "l1 = l1.fit(Xtr, y1tr)\n",
    "print(\"R^2 :\", l1.score(Xte, y1te))"
   ]
  },
  {
   "cell_type": "code",
   "execution_count": 22,
   "metadata": {
    "collapsed": false
   },
   "outputs": [
    {
     "name": "stdout",
     "output_type": "stream",
     "text": [
      "R^2 : -0.0292347162203\n"
     ]
    }
   ],
   "source": [
    "l2 = LassoLarsCV()\n",
    "l2 = l2.fit(Xtr, y2tr)\n",
    "print(\"R^2 :\", l2.score(Xte, y2te))"
   ]
  },
  {
   "cell_type": "markdown",
   "metadata": {},
   "source": [
    "# SVR"
   ]
  },
  {
   "cell_type": "code",
   "execution_count": 58,
   "metadata": {
    "collapsed": true
   },
   "outputs": [],
   "source": [
    "X = fires[fires.columns[4:12]].copy()\n",
    "X[:] = sk_scale(X)\n",
    "y1, y2 = sk_scale(fires['area']), sk_scale(fires['log'])\n",
    "\n",
    "Xtr, Xte, y1tr, y1te, y2tr, y2te = train_test_split(\n",
    "    X, y1, y2, random_state=8)"
   ]
  },
  {
   "cell_type": "markdown",
   "metadata": {},
   "source": [
    "### Linear"
   ]
  },
  {
   "cell_type": "code",
   "execution_count": 24,
   "metadata": {
    "collapsed": false
   },
   "outputs": [
    {
     "name": "stdout",
     "output_type": "stream",
     "text": [
      "c =  1\n",
      "\tR^2:  -0.0154285225078\n",
      "\tR^2:  -0.252046325314\n",
      "c =  10\n",
      "\tR^2:  -0.0153777932806\n",
      "\tR^2:  -0.25117385287\n",
      "c =  20\n",
      "\tR^2:  -0.0153752029956\n",
      "\tR^2:  -0.25132944789\n",
      "c =  30\n",
      "\tR^2:  -0.0154280666751\n",
      "\tR^2:  -0.25222877453\n",
      "c =  40\n",
      "\tR^2:  -0.0154332562122\n",
      "\tR^2:  -0.251308384774\n",
      "c =  50\n",
      "\tR^2:  -0.0153809429478\n",
      "\tR^2:  -0.252177404602\n",
      "c =  100\n",
      "\tR^2:  -0.0154041821296\n",
      "\tR^2:  -0.251475706872\n"
     ]
    }
   ],
   "source": [
    "for c in [1, 10, 20, 30, 40, 50, 100]:\n",
    "    print(\"c = \", c)\n",
    "    svr1 = SVR(kernel='linear', C=c)\n",
    "    svr1 = svr1.fit(Xtr, y1tr)\n",
    "    print(\"\\tR^2: \", svr1.score(Xte, y1te))\n",
    "    svr2 = SVR(kernel='linear', C=c)\n",
    "    svr2 = svr1.fit(Xtr, y2tr)\n",
    "    print(\"\\tR^2: \", svr2.score(Xte, y2te))\n"
   ]
  },
  {
   "cell_type": "markdown",
   "metadata": {},
   "source": [
    "### Rbf"
   ]
  },
  {
   "cell_type": "code",
   "execution_count": 59,
   "metadata": {
    "collapsed": false
   },
   "outputs": [
    {
     "name": "stdout",
     "output_type": "stream",
     "text": [
      "e =  0.01\n",
      "\tR^2:  -0.0404620962962\n",
      "\tR^2:  -0.128061609782\n",
      "e =  0.05\n",
      "\tR^2:  -0.0294831729139\n",
      "\tR^2:  -0.130257024258\n",
      "e =  0.1\n",
      "\tR^2:  -0.0174785593783\n",
      "\tR^2:  -0.120457457846\n",
      "e =  0.15\n",
      "\tR^2:  -0.00775954797796\n",
      "\tR^2:  -0.107353573606\n",
      "e =  0.2\n",
      "\tR^2:  -0.00244077206994\n",
      "\tR^2:  -0.0960329843433\n",
      "e =  0.25\n",
      "\tR^2:  -0.000882772810449\n",
      "\tR^2:  -0.0943904059509\n",
      "e =  0.5\n",
      "\tR^2:  -0.0441827557169\n",
      "\tR^2:  -0.0318755441964\n",
      "e =  0.75\n",
      "\tR^2:  -0.198466780478\n",
      "\tR^2:  0.00407310704911\n",
      "e =  1\n",
      "\tR^2:  -0.455601834443\n",
      "\tR^2:  -0.0420768471257\n"
     ]
    }
   ],
   "source": [
    "c=0.5\n",
    "for e in [0.01, 0.05, 0.1, 0.15, 0.2, 0.25, 0.5, 0.75, 1]:\n",
    "    print(\"e = \", e)\n",
    "    svr1 = SVR(kernel='rbf', C=c, epsilon=e)\n",
    "    svr1 = svr1.fit(Xtr, y1tr)\n",
    "    print(\"\\tR^2: \", svr1.score(Xte, y1te))\n",
    "    svr2 = SVR(kernel='rbf', C=c, epsilon=e)\n",
    "    svr2 = svr1.fit(Xtr, y2tr)\n",
    "    print(\"\\tR^2: \", svr2.score(Xte, y2te))\n"
   ]
  },
  {
   "cell_type": "code",
   "execution_count": null,
   "metadata": {
    "collapsed": true
   },
   "outputs": [],
   "source": [
    "c=0.5\n",
    "for e in [0.01, 0.05, 0.1, 0.15, 0.2, 0.25, 0.5, 0.75, 1]:\n",
    "    print(\"e = \", e)\n",
    "    svr1 = SVR(kernel='rbf', C=c, epsilon=e)\n",
    "    svr1 = svr1.fit(Xtr, y1tr)\n",
    "    print(\"\\tR^2: \", svr1.score(Xte, y1te))\n",
    "    svr2 = SVR(kernel='rbf', C=c, epsilon=e)\n",
    "    svr2 = svr1.fit(Xtr, y2tr)\n",
    "    print(\"\\tR^2: \", svr2.score(Xte, y2te))"
   ]
  },
  {
   "cell_type": "markdown",
   "metadata": {},
   "source": [
    "### poly"
   ]
  },
  {
   "cell_type": "code",
   "execution_count": 26,
   "metadata": {
    "collapsed": false
   },
   "outputs": [
    {
     "name": "stdout",
     "output_type": "stream",
     "text": [
      "c =  -10\n",
      "\tR^2:  -3754448.07399\n",
      "\tR^2:  -4213073.49323\n",
      "c =  -5\n",
      "\tR^2:  -918089.111313\n",
      "\tR^2:  -1030022.09476\n",
      "c =  -0.01\n",
      "\tR^2:  -8.60265823328\n",
      "\tR^2:  -2.12801011632\n",
      "c =  0\n",
      "\tR^2:  -0.0161125383611\n",
      "\tR^2:  -1.00267605424\n",
      "c =  0.1\n",
      "\tR^2:  -0.0165616425112\n",
      "\tR^2:  -0.142764349352\n",
      "c =  0.5\n",
      "\tR^2:  -0.0165556365968\n",
      "\tR^2:  -0.185886594253\n",
      "c =  0.75\n",
      "\tR^2:  -0.0168080467471\n",
      "\tR^2:  -0.176376070132\n",
      "c =  1\n",
      "\tR^2:  -0.0167143231956\n",
      "\tR^2:  -0.16318133493\n",
      "c =  1.25\n",
      "\tR^2:  -0.0164914083167\n",
      "\tR^2:  -0.155335753752\n",
      "c =  1.5\n",
      "\tR^2:  -0.0164657034162\n",
      "\tR^2:  -0.14821380855\n",
      "c =  2\n",
      "\tR^2:  -0.0166076663174\n",
      "\tR^2:  -0.140731937213\n",
      "c =  5\n",
      "\tR^2:  -0.0166575768501\n",
      "\tR^2:  -0.131978684586\n",
      "c =  10\n",
      "\tR^2:  -0.0165653517371\n",
      "\tR^2:  -0.135105980467\n"
     ]
    }
   ],
   "source": [
    "#[0.01, 0.05, 0.1, 0.15, 0.2, 0.25, 0.5, 0.75, 1]:\n",
    "e=0.1\n",
    "for c in [-10, -5, -.01,0, 0.1, 0.5, 0.75, 1,1.25, 1.5, 2, 5, 10]:\n",
    "    print(\"c = \", c)\n",
    "    svr1 = SVR(kernel='poly', degree=2, coef0=c, epsilon=e)\n",
    "    svr1 = svr1.fit(Xtr, y1tr)\n",
    "    print(\"\\tR^2: \", svr1.score(Xte, y1te))\n",
    "    svr2 = SVR(kernel='poly', degree=2, coef0=c, epsilon=e)\n",
    "    svr2 = svr1.fit(Xtr, y2tr)\n",
    "    print(\"\\tR^2: \", svr2.score(Xte, y2te))"
   ]
  },
  {
   "cell_type": "markdown",
   "metadata": {
    "collapsed": true
   },
   "source": [
    "# PCA"
   ]
  },
  {
   "cell_type": "code",
   "execution_count": 46,
   "metadata": {
    "collapsed": true
   },
   "outputs": [],
   "source": [
    "from sklearn.decomposition import PCA\n",
    "from sklearn.metrics import silhouette_samples, silhouette_score\n",
    "import matplotlib.cm as cm\n",
    "import seaborn as sns"
   ]
  },
  {
   "cell_type": "code",
   "execution_count": 47,
   "metadata": {
    "collapsed": true
   },
   "outputs": [],
   "source": [
    "X1 = fires[fires.columns[4:8]].copy()\n",
    "X2 = fires[fires.columns[8:12]].copy()\n",
    "y = fires['log'].copy()\n",
    "pca = PCA(n_components=2).fit(X2)\n",
    "transformed = pca.transform(X2)"
   ]
  },
  {
   "cell_type": "code",
   "execution_count": 50,
   "metadata": {
    "collapsed": false
   },
   "outputs": [
    {
     "data": {
      "text/plain": [
       "<matplotlib.collections.PathCollection at 0x7fd9d9ebaba8>"
      ]
     },
     "execution_count": 50,
     "metadata": {},
     "output_type": "execute_result"
    },
    {
     "data": {
      "image/png": "[encoded data removed]",
      "text/plain": [
       "<matplotlib.figure.Figure at 0x7fd9d9ed4cc0>"
      ]
     },
     "metadata": {},
     "output_type": "display_data"
    }
   ],
   "source": [
    "plt.scatter(transformed[:,0], transformed[:,1], c=y, cmap=plt.cm.magma)"
   ]
  },
  {
   "cell_type": "code",
   "execution_count": 56,
   "metadata": {
    "collapsed": false
   },
   "outputs": [
    {
     "data": {
      "text/plain": [
       "<matplotlib.collections.PathCollection at 0x7fd9d989b9b0>"
      ]
     },
     "execution_count": 56,
     "metadata": {},
     "output_type": "execute_result"
    },
    {
     "data": {
      "image/png": "[encoded data removed]",
      "text/plain": [
       "<matplotlib.figure.Figure at 0x7fd9d9aeb1d0>"
      ]
     },
     "metadata": {},
     "output_type": "display_data"
    }
   ],
   "source": [
    "pca = PCA(n_components=2).fit(X1[fires.small==True])\n",
    "transformed = pca.transform(X1[fires.small==True])\n",
    "plt.scatter(transformed[:,0], transformed[:,1], c=y[fires.small==True], cmap=plt.cm.magma)"
   ]
  },
  {
   "cell_type": "code",
   "execution_count": 57,
   "metadata": {
    "collapsed": false
   },
   "outputs": [
    {
     "data": {
      "text/plain": [
       "<matplotlib.collections.PathCollection at 0x7fd9d9805c50>"
      ]
     },
     "execution_count": 57,
     "metadata": {},
     "output_type": "execute_result"
    },
    {
     "data": {
      "image/png": "[encoded data removed]",
      "text/plain": [
       "<matplotlib.figure.Figure at 0x7fd9d9926a20>"
      ]
     },
     "metadata": {},
     "output_type": "display_data"
    }
   ],
   "source": [
    "pca = PCA(n_components=2).fit(X1[fires.small==False])\n",
    "transformed = pca.transform(X1[fires.small==False])\n",
    "plt.scatter(transformed[:,0], transformed[:,1], c=y[fires.small==False], cmap=plt.cm.magma)"
   ]
  }
 ],
 "metadata": {
  "kernelspec": {
   "display_name": "Python 3",
   "language": "python",
   "name": "python3"
  },
  "language_info": {
   "codemirror_mode": {
    "name": "ipython",
    "version": 3
   },
   "file_extension": ".py",
   "mimetype": "text/x-python",
   "name": "python",
   "nbconvert_exporter": "python",
   "pygments_lexer": "ipython3",
   "version": "3.6.0"
  }
 },
 "nbformat": 4,
 "nbformat_minor": 2
}
