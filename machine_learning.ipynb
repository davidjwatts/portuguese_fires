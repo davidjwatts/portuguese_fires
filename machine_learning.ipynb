{
 "cells": [
  {
   "cell_type": "code",
   "execution_count": 351,
   "metadata": {
    "collapsed": false
   },
   "outputs": [],
   "source": [
    "import matplotlib.pyplot as plt\n",
    "import numpy as np\n",
    "import pandas as pd\n",
    "import utils\n",
    "from sklearn.preprocessing import StandardScaler as SS\n",
    "from sklearn.preprocessing import scale as sk_scale\n",
    "from sklearn.model_selection import train_test_split\n",
    "from sklearn.linear_model import RidgeCV\n",
    "from sklearn.linear_model import ElasticNetCV\n",
    "from sklearn.linear_model import LassoLarsCV\n",
    "from sklearn.svm import SVR\n",
    "from sklearn.model_selection import KFold\n",
    "\n",
    "%matplotlib inline"
   ]
  },
  {
   "cell_type": "code",
   "execution_count": 249,
   "metadata": {
    "collapsed": true
   },
   "outputs": [],
   "source": [
    "fires = utils.wrangle()"
   ]
  },
  {
   "cell_type": "code",
   "execution_count": 250,
   "metadata": {
    "collapsed": false
   },
   "outputs": [
    {
     "data": {
      "text/html": [
       "<div>\n",
       "<table border=\"1\" class=\"dataframe\">\n",
       "  <thead>\n",
       "    <tr style=\"text-align: right;\">\n",
       "      <th></th>\n",
       "      <th>X</th>\n",
       "      <th>Y</th>\n",
       "      <th>month</th>\n",
       "      <th>day</th>\n",
       "      <th>FFMC</th>\n",
       "      <th>DMC</th>\n",
       "      <th>DC</th>\n",
       "      <th>ISI</th>\n",
       "      <th>temp</th>\n",
       "      <th>RH</th>\n",
       "      <th>wind</th>\n",
       "      <th>rain</th>\n",
       "      <th>area</th>\n",
       "      <th>log</th>\n",
       "      <th>small</th>\n",
       "    </tr>\n",
       "  </thead>\n",
       "  <tbody>\n",
       "    <tr>\n",
       "      <th>0</th>\n",
       "      <td>7</td>\n",
       "      <td>5</td>\n",
       "      <td>3</td>\n",
       "      <td>6</td>\n",
       "      <td>86.2</td>\n",
       "      <td>26.2</td>\n",
       "      <td>94.3</td>\n",
       "      <td>5.1</td>\n",
       "      <td>8.2</td>\n",
       "      <td>51</td>\n",
       "      <td>6.7</td>\n",
       "      <td>0.0</td>\n",
       "      <td>0.0</td>\n",
       "      <td>0.0</td>\n",
       "      <td>True</td>\n",
       "    </tr>\n",
       "    <tr>\n",
       "      <th>1</th>\n",
       "      <td>7</td>\n",
       "      <td>4</td>\n",
       "      <td>10</td>\n",
       "      <td>3</td>\n",
       "      <td>90.6</td>\n",
       "      <td>35.4</td>\n",
       "      <td>669.1</td>\n",
       "      <td>6.7</td>\n",
       "      <td>18.0</td>\n",
       "      <td>33</td>\n",
       "      <td>0.9</td>\n",
       "      <td>0.0</td>\n",
       "      <td>0.0</td>\n",
       "      <td>0.0</td>\n",
       "      <td>True</td>\n",
       "    </tr>\n",
       "    <tr>\n",
       "      <th>2</th>\n",
       "      <td>7</td>\n",
       "      <td>4</td>\n",
       "      <td>10</td>\n",
       "      <td>7</td>\n",
       "      <td>90.6</td>\n",
       "      <td>43.7</td>\n",
       "      <td>686.9</td>\n",
       "      <td>6.7</td>\n",
       "      <td>14.6</td>\n",
       "      <td>33</td>\n",
       "      <td>1.3</td>\n",
       "      <td>0.0</td>\n",
       "      <td>0.0</td>\n",
       "      <td>0.0</td>\n",
       "      <td>True</td>\n",
       "    </tr>\n",
       "    <tr>\n",
       "      <th>3</th>\n",
       "      <td>8</td>\n",
       "      <td>6</td>\n",
       "      <td>3</td>\n",
       "      <td>6</td>\n",
       "      <td>91.7</td>\n",
       "      <td>33.3</td>\n",
       "      <td>77.5</td>\n",
       "      <td>9.0</td>\n",
       "      <td>8.3</td>\n",
       "      <td>97</td>\n",
       "      <td>4.0</td>\n",
       "      <td>0.2</td>\n",
       "      <td>0.0</td>\n",
       "      <td>0.0</td>\n",
       "      <td>True</td>\n",
       "    </tr>\n",
       "    <tr>\n",
       "      <th>4</th>\n",
       "      <td>8</td>\n",
       "      <td>6</td>\n",
       "      <td>3</td>\n",
       "      <td>1</td>\n",
       "      <td>89.3</td>\n",
       "      <td>51.3</td>\n",
       "      <td>102.2</td>\n",
       "      <td>9.6</td>\n",
       "      <td>11.4</td>\n",
       "      <td>99</td>\n",
       "      <td>1.8</td>\n",
       "      <td>0.0</td>\n",
       "      <td>0.0</td>\n",
       "      <td>0.0</td>\n",
       "      <td>True</td>\n",
       "    </tr>\n",
       "  </tbody>\n",
       "</table>\n",
       "</div>"
      ],
      "text/plain": [
       "   X  Y  month  day  FFMC   DMC     DC  ISI  temp  RH  wind  rain  area  log  \\\n",
       "0  7  5      3    6  86.2  26.2   94.3  5.1   8.2  51   6.7   0.0   0.0  0.0   \n",
       "1  7  4     10    3  90.6  35.4  669.1  6.7  18.0  33   0.9   0.0   0.0  0.0   \n",
       "2  7  4     10    7  90.6  43.7  686.9  6.7  14.6  33   1.3   0.0   0.0  0.0   \n",
       "3  8  6      3    6  91.7  33.3   77.5  9.0   8.3  97   4.0   0.2   0.0  0.0   \n",
       "4  8  6      3    1  89.3  51.3  102.2  9.6  11.4  99   1.8   0.0   0.0  0.0   \n",
       "\n",
       "  small  \n",
       "0  True  \n",
       "1  True  \n",
       "2  True  \n",
       "3  True  \n",
       "4  True  "
      ]
     },
     "execution_count": 250,
     "metadata": {},
     "output_type": "execute_result"
    }
   ],
   "source": [
    "fires.head()"
   ]
  },
  {
   "cell_type": "code",
   "execution_count": 251,
   "metadata": {
    "collapsed": true
   },
   "outputs": [],
   "source": [
    "def scale(train, test=None):\n",
    "    ss = SS()\n",
    "    x = ss.fit_transform(train)\n",
    "    if train!=None:\n",
    "        y = ss.transform(test)\n",
    "        return x, y\n",
    "    else:\n",
    "        return x"
   ]
  },
  {
   "cell_type": "markdown",
   "metadata": {},
   "source": [
    "# Ridge Regression"
   ]
  },
  {
   "cell_type": "code",
   "execution_count": 252,
   "metadata": {
    "collapsed": false
   },
   "outputs": [],
   "source": [
    "X = fires[fires.columns[4:12]].copy()\n",
    "X[:] = sk_scale(X)\n",
    "y1, y2 = sk_scale(fires[['area']]), sk_scale(fires[['log']])"
   ]
  },
  {
   "cell_type": "code",
   "execution_count": 253,
   "metadata": {
    "collapsed": true
   },
   "outputs": [],
   "source": [
    "Xtr, Xte, y1tr, y1te, y2tr, y2te = train_test_split(\n",
    "    X, y1, y2, random_state=7)"
   ]
  },
  {
   "cell_type": "code",
   "execution_count": 254,
   "metadata": {
    "collapsed": false
   },
   "outputs": [
    {
     "name": "stdout",
     "output_type": "stream",
     "text": [
      "0.000979431188506 1000\n"
     ]
    }
   ],
   "source": [
    "a = [1000]\n",
    "ridge1 = RidgeCV(alphas=a)\n",
    "ridge1 = ridge1.fit(Xtr, y1tr)\n",
    "print(ridge1.score(Xte, y1te), ridge1.alpha_)"
   ]
  },
  {
   "cell_type": "code",
   "execution_count": 255,
   "metadata": {
    "collapsed": false
   },
   "outputs": [
    {
     "name": "stdout",
     "output_type": "stream",
     "text": [
      "-0.0237321334568 1000\n"
     ]
    }
   ],
   "source": [
    "ridge2 = RidgeCV(alphas=a)\n",
    "ridge2 = ridge2.fit(Xtr, y2tr)\n",
    "print(ridge2.score(Xte, y2te), ridge2.alpha_)"
   ]
  },
  {
   "cell_type": "markdown",
   "metadata": {},
   "source": [
    "### non-scaled"
   ]
  },
  {
   "cell_type": "code",
   "execution_count": 256,
   "metadata": {
    "collapsed": true
   },
   "outputs": [],
   "source": [
    "X = fires[fires.columns[4:12]].copy()\n",
    "y1, y2 = fires[['area']].copy(), fires[['log']].copy()\n",
    "\n",
    "Xtr, Xte, y1tr, y1te, y2tr, y2te = train_test_split(\n",
    "    X, y1, y2, random_state=7)"
   ]
  },
  {
   "cell_type": "code",
   "execution_count": 257,
   "metadata": {
    "collapsed": false
   },
   "outputs": [
    {
     "name": "stdout",
     "output_type": "stream",
     "text": [
      "R^2:  -0.0252006578942 with alpha:  10000.0\n"
     ]
    }
   ],
   "source": [
    "a = [0.001, 0.01, 0.1, 1, 10, 100, 1000, 10000]\n",
    "ridge1 = RidgeCV(alphas=a)\n",
    "ridge1 = ridge1.fit(Xtr, y1tr)\n",
    "print(\"R^2: \",ridge1.score(Xte, y1te), \"with alpha: \", ridge1.alpha_)"
   ]
  },
  {
   "cell_type": "code",
   "execution_count": 258,
   "metadata": {
    "collapsed": false
   },
   "outputs": [
    {
     "name": "stdout",
     "output_type": "stream",
     "text": [
      "R^2:  -0.0253863118922 with alpha:  10000.0\n"
     ]
    }
   ],
   "source": [
    "a = [0.001, 0.01, 0.1, 1, 10, 100, 1000, 10000]\n",
    "ridge2 = RidgeCV(alphas=a)\n",
    "ridge2 = ridge2.fit(Xtr, y2tr)\n",
    "print(\"R^2: \",ridge2.score(Xte, y2te), \"with alpha: \", ridge2.alpha_)"
   ]
  },
  {
   "cell_type": "markdown",
   "metadata": {},
   "source": [
    "# ElasticNet "
   ]
  },
  {
   "cell_type": "markdown",
   "metadata": {},
   "source": [
    "### non-scaled"
   ]
  },
  {
   "cell_type": "code",
   "execution_count": 259,
   "metadata": {
    "collapsed": true
   },
   "outputs": [],
   "source": [
    "X = fires[fires.columns[4:12]].copy()\n",
    "y1, y2 = fires['area'].copy(), fires['log'].copy()\n",
    "\n",
    "Xtr, Xte, y1tr, y1te, y2tr, y2te = train_test_split(\n",
    "    X, y1, y2, random_state=7)"
   ]
  },
  {
   "cell_type": "code",
   "execution_count": 260,
   "metadata": {
    "collapsed": false
   },
   "outputs": [
    {
     "name": "stdout",
     "output_type": "stream",
     "text": [
      "R^2 : -0.025682691519 alpha:  10.802796017 l1:  0.1\n"
     ]
    }
   ],
   "source": [
    "l1s = [.1, .5, .7, .9, .95, .99, 1]\n",
    "net1 = ElasticNetCV(l1_ratio=l1s)\n",
    "net1 = net1.fit(Xtr, y1tr)\n",
    "print(\"R^2 :\", net1.score(Xte, y1te), \"alpha: \", net1.alpha_, \"l1: \", net1.l1_ratio_)"
   ]
  },
  {
   "cell_type": "code",
   "execution_count": 261,
   "metadata": {
    "collapsed": false
   },
   "outputs": [
    {
     "name": "stdout",
     "output_type": "stream",
     "text": [
      "R^2 : -0.0292347162203 alpha:  263.1390438 l1:  0.1\n"
     ]
    }
   ],
   "source": [
    "l1s = [.1, .5, .7, .9, .95, .99, 1]\n",
    "net2 = ElasticNetCV(l1_ratio=l1s)\n",
    "net2 = net2.fit(Xtr, y2tr)\n",
    "print(\"R^2 :\", net2.score(Xte, y2te), \"alpha: \", net2.alpha_, \"l1: \", net2.l1_ratio_)"
   ]
  },
  {
   "cell_type": "markdown",
   "metadata": {},
   "source": [
    "### scaled"
   ]
  },
  {
   "cell_type": "code",
   "execution_count": 262,
   "metadata": {
    "collapsed": true
   },
   "outputs": [],
   "source": [
    "X = fires[fires.columns[4:12]].copy()\n",
    "X[:] = sk_scale(X)\n",
    "y1, y2 = sk_scale(fires['area']), sk_scale(fires['log'])\n",
    "\n",
    "Xtr, Xte, y1tr, y1te, y2tr, y2te = train_test_split(\n",
    "    X, y1, y2, random_state=7)"
   ]
  },
  {
   "cell_type": "code",
   "execution_count": 263,
   "metadata": {
    "collapsed": false
   },
   "outputs": [
    {
     "name": "stdout",
     "output_type": "stream",
     "text": [
      "R^2 : -0.0107080584454 alpha:  0.0846640551719 l1:  0.1\n"
     ]
    }
   ],
   "source": [
    "l1s = [.1, .5, .7, .9, .95, .99, 1]\n",
    "net1 = ElasticNetCV(l1_ratio=l1s)\n",
    "net1 = net1.fit(Xtr, y1tr)\n",
    "print(\"R^2 :\", net1.score(Xte, y1te), \"alpha: \", net1.alpha_, \"l1: \", net1.l1_ratio_)"
   ]
  },
  {
   "cell_type": "code",
   "execution_count": 264,
   "metadata": {
    "collapsed": false
   },
   "outputs": [
    {
     "name": "stdout",
     "output_type": "stream",
     "text": [
      "R^2 : -0.0292347162203 alpha:  0.760004165201 l1:  0.1\n"
     ]
    }
   ],
   "source": [
    "l1s = [.1, .5, .7, .9, .95, .99, 1]\n",
    "net2 = ElasticNetCV(l1_ratio=l1s)\n",
    "net2 = net2.fit(Xtr, y2tr)\n",
    "print(\"R^2 :\", net2.score(Xte, y2te), \"alpha: \", net2.alpha_, \"l1: \", net2.l1_ratio_)"
   ]
  },
  {
   "cell_type": "markdown",
   "metadata": {},
   "source": [
    "# Lasso Lars"
   ]
  },
  {
   "cell_type": "markdown",
   "metadata": {},
   "source": [
    "### non-scaled"
   ]
  },
  {
   "cell_type": "code",
   "execution_count": 265,
   "metadata": {
    "collapsed": true
   },
   "outputs": [],
   "source": [
    "X = fires[fires.columns[4:12]].copy()\n",
    "y1, y2 = fires['area'].copy(), fires['log'].copy()\n",
    "\n",
    "Xtr, Xte, y1tr, y1te, y2tr, y2te = train_test_split(\n",
    "    X, y1, y2, random_state=7)"
   ]
  },
  {
   "cell_type": "code",
   "execution_count": 266,
   "metadata": {
    "collapsed": false
   },
   "outputs": [
    {
     "name": "stdout",
     "output_type": "stream",
     "text": [
      "R^2 : -0.0111905739914\n"
     ]
    }
   ],
   "source": [
    "l1 = LassoLarsCV()\n",
    "l1 = l1.fit(Xtr, y1tr)\n",
    "print(\"R^2 :\", l1.score(Xte, y1te))"
   ]
  },
  {
   "cell_type": "code",
   "execution_count": 267,
   "metadata": {
    "collapsed": false
   },
   "outputs": [
    {
     "name": "stdout",
     "output_type": "stream",
     "text": [
      "R^2 : -0.0292347162203\n"
     ]
    }
   ],
   "source": [
    "l2 = LassoLarsCV()\n",
    "l2 = l2.fit(Xtr, y2tr)\n",
    "print(\"R^2 :\", l2.score(Xte, y2te))"
   ]
  },
  {
   "cell_type": "markdown",
   "metadata": {},
   "source": [
    "### scaled"
   ]
  },
  {
   "cell_type": "code",
   "execution_count": 268,
   "metadata": {
    "collapsed": true
   },
   "outputs": [],
   "source": [
    "X = fires[fires.columns[4:12]].copy()\n",
    "X[:] = sk_scale(X)\n",
    "y1, y2 = sk_scale(fires['area']), sk_scale(fires['log'])\n",
    "\n",
    "Xtr, Xte, y1tr, y1te, y2tr, y2te = train_test_split(\n",
    "    X, y1, y2, random_state=7)"
   ]
  },
  {
   "cell_type": "code",
   "execution_count": 269,
   "metadata": {
    "collapsed": false
   },
   "outputs": [
    {
     "name": "stdout",
     "output_type": "stream",
     "text": [
      "R^2 : -0.0111905739914\n"
     ]
    }
   ],
   "source": [
    "l1 = LassoLarsCV()\n",
    "l1 = l1.fit(Xtr, y1tr)\n",
    "print(\"R^2 :\", l1.score(Xte, y1te))"
   ]
  },
  {
   "cell_type": "code",
   "execution_count": 270,
   "metadata": {
    "collapsed": false
   },
   "outputs": [
    {
     "name": "stdout",
     "output_type": "stream",
     "text": [
      "R^2 : -0.0292347162203\n"
     ]
    }
   ],
   "source": [
    "l2 = LassoLarsCV()\n",
    "l2 = l2.fit(Xtr, y2tr)\n",
    "print(\"R^2 :\", l2.score(Xte, y2te))"
   ]
  },
  {
   "cell_type": "markdown",
   "metadata": {},
   "source": [
    "# SVR"
   ]
  },
  {
   "cell_type": "code",
   "execution_count": 271,
   "metadata": {
    "collapsed": true
   },
   "outputs": [],
   "source": [
    "X = fires[fires.columns[8:12]].copy()\n",
    "X[:] = sk_scale(X)\n",
    "y1, y2 = sk_scale(fires['area']), sk_scale(fires['log'])\n",
    "\n",
    "Xtr, Xte, y1tr, y1te, y2tr, y2te = train_test_split(\n",
    "    X, y1, y2, random_state=8)"
   ]
  },
  {
   "cell_type": "markdown",
   "metadata": {},
   "source": [
    "### Linear"
   ]
  },
  {
   "cell_type": "code",
   "execution_count": 272,
   "metadata": {
    "collapsed": false
   },
   "outputs": [
    {
     "name": "stdout",
     "output_type": "stream",
     "text": [
      "c =  1\n",
      "\tR^2:  -0.0154590113928\n",
      "\tR^2:  -0.319235937123\n",
      "c =  10\n",
      "\tR^2:  -0.0154045481365\n",
      "\tR^2:  -0.31964240517\n",
      "c =  20\n",
      "\tR^2:  -0.0154267163743\n",
      "\tR^2:  -0.319676591745\n",
      "c =  30\n",
      "\tR^2:  -0.0154375085935\n",
      "\tR^2:  -0.319987105421\n",
      "c =  40\n",
      "\tR^2:  -0.0154267728022\n",
      "\tR^2:  -0.319285504178\n",
      "c =  50\n",
      "\tR^2:  -0.0154289957821\n",
      "\tR^2:  -0.31937371269\n",
      "c =  100\n",
      "\tR^2:  -0.0154175461216\n",
      "\tR^2:  -0.319887519336\n"
     ]
    }
   ],
   "source": [
    "for c in [1, 10, 20, 30, 40, 50, 100]:\n",
    "    print(\"c = \", c)\n",
    "    svr1 = SVR(kernel='linear', C=c)\n",
    "    svr1 = svr1.fit(Xtr, y1tr)\n",
    "    print(\"\\tR^2: \", svr1.score(Xte, y1te))\n",
    "    svr2 = SVR(kernel='linear', C=c)\n",
    "    svr2 = svr1.fit(Xtr, y2tr)\n",
    "    print(\"\\tR^2: \", svr2.score(Xte, y2te))\n"
   ]
  },
  {
   "cell_type": "markdown",
   "metadata": {},
   "source": [
    "### Rbf"
   ]
  },
  {
   "cell_type": "code",
   "execution_count": 273,
   "metadata": {
    "collapsed": false
   },
   "outputs": [
    {
     "name": "stdout",
     "output_type": "stream",
     "text": [
      "e =  0.01\n",
      "\tR^2:  -0.038016734826\n",
      "\tR^2:  -0.146409413226\n",
      "e =  0.05\n",
      "\tR^2:  -0.0275998078923\n",
      "\tR^2:  -0.13980456606\n",
      "e =  0.1\n",
      "\tR^2:  -0.0151194386652\n",
      "\tR^2:  -0.126217058509\n",
      "e =  0.15\n",
      "\tR^2:  -0.00595156533077\n",
      "\tR^2:  -0.113090399648\n",
      "e =  0.2\n",
      "\tR^2:  -0.000782039100566\n",
      "\tR^2:  -0.0970044522048\n",
      "e =  0.25\n",
      "\tR^2:  0.000454720725694\n",
      "\tR^2:  -0.0799378221492\n",
      "e =  0.5\n",
      "\tR^2:  -0.0534676097624\n",
      "\tR^2:  -0.0164212699924\n",
      "e =  0.75\n",
      "\tR^2:  -0.209279489653\n",
      "\tR^2:  0.0144481246696\n",
      "e =  1\n",
      "\tR^2:  -0.468895159424\n",
      "\tR^2:  -0.0331728302202\n"
     ]
    }
   ],
   "source": [
    "c=0.5\n",
    "for e in [0.01, 0.05, 0.1, 0.15, 0.2, 0.25, 0.5, 0.75, 1]:\n",
    "    print(\"e = \", e)\n",
    "    svr1 = SVR(kernel='rbf', C=c, epsilon=e)\n",
    "    svr1 = svr1.fit(Xtr, y1tr)\n",
    "    print(\"\\tR^2: \", svr1.score(Xte, y1te))\n",
    "    svr2 = SVR(kernel='rbf', C=c, epsilon=e)\n",
    "    svr2 = svr1.fit(Xtr, y2tr)\n",
    "    print(\"\\tR^2: \", svr2.score(Xte, y2te))\n"
   ]
  },
  {
   "cell_type": "code",
   "execution_count": 274,
   "metadata": {
    "collapsed": false
   },
   "outputs": [
    {
     "name": "stdout",
     "output_type": "stream",
     "text": [
      "e =  0.01\n",
      "\tR^2:  -0.038016734826\n",
      "\tR^2:  -0.146409413226\n",
      "e =  0.05\n",
      "\tR^2:  -0.0275998078923\n",
      "\tR^2:  -0.13980456606\n",
      "e =  0.1\n",
      "\tR^2:  -0.0151194386652\n",
      "\tR^2:  -0.126217058509\n",
      "e =  0.15\n",
      "\tR^2:  -0.00595156533077\n",
      "\tR^2:  -0.113090399648\n",
      "e =  0.2\n",
      "\tR^2:  -0.000782039100566\n",
      "\tR^2:  -0.0970044522048\n",
      "e =  0.25\n",
      "\tR^2:  0.000454720725694\n",
      "\tR^2:  -0.0799378221492\n",
      "e =  0.5\n",
      "\tR^2:  -0.0534676097624\n",
      "\tR^2:  -0.0164212699924\n",
      "e =  0.75\n",
      "\tR^2:  -0.209279489653\n",
      "\tR^2:  0.0144481246696\n",
      "e =  1\n",
      "\tR^2:  -0.468895159424\n",
      "\tR^2:  -0.0331728302202\n"
     ]
    }
   ],
   "source": [
    "c=0.5\n",
    "for e in [0.01, 0.05, 0.1, 0.15, 0.2, 0.25, 0.5, 0.75, 1]:\n",
    "    print(\"e = \", e)\n",
    "    svr1 = SVR(kernel='rbf', C=c, epsilon=e)\n",
    "    svr1 = svr1.fit(Xtr, y1tr)\n",
    "    print(\"\\tR^2: \", svr1.score(Xte, y1te))\n",
    "    svr2 = SVR(kernel='rbf', C=c, epsilon=e)\n",
    "    svr2 = svr1.fit(Xtr, y2tr)\n",
    "    print(\"\\tR^2: \", svr2.score(Xte, y2te))"
   ]
  },
  {
   "cell_type": "markdown",
   "metadata": {},
   "source": [
    "### poly"
   ]
  },
  {
   "cell_type": "code",
   "execution_count": 275,
   "metadata": {
    "collapsed": false
   },
   "outputs": [
    {
     "name": "stdout",
     "output_type": "stream",
     "text": [
      "c =  -10\n",
      "\tR^2:  -5139457.99622\n",
      "\tR^2:  -5767350.6876\n",
      "c =  -5\n",
      "\tR^2:  -1273332.36901\n",
      "\tR^2:  -1429036.58915\n",
      "c =  -0.01\n",
      "\tR^2:  -116.397540417\n",
      "\tR^2:  -26.7527319097\n",
      "c =  0\n",
      "\tR^2:  -0.0157631229438\n",
      "\tR^2:  -14.8415774705\n",
      "c =  0.1\n",
      "\tR^2:  -0.0154376137314\n",
      "\tR^2:  -13.6443740717\n",
      "c =  0.5\n",
      "\tR^2:  -0.0154335290781\n",
      "\tR^2:  -19.4125626438\n",
      "c =  0.75\n",
      "\tR^2:  -0.0154605253546\n",
      "\tR^2:  -20.9890249765\n",
      "c =  1\n",
      "\tR^2:  -0.015451336964\n",
      "\tR^2:  -22.0983746907\n",
      "c =  1.25\n",
      "\tR^2:  -0.015441482808\n",
      "\tR^2:  -23.2272706035\n",
      "c =  1.5\n",
      "\tR^2:  -0.0154479916103\n",
      "\tR^2:  -24.0569989312\n",
      "c =  2\n",
      "\tR^2:  -0.0154467136709\n",
      "\tR^2:  -25.2424268562\n",
      "c =  5\n",
      "\tR^2:  -0.0154599828235\n",
      "\tR^2:  -27.657145608\n",
      "c =  10\n",
      "\tR^2:  -0.0154694495322\n",
      "\tR^2:  -28.8768109069\n"
     ]
    }
   ],
   "source": [
    "#[0.01, 0.05, 0.1, 0.15, 0.2, 0.25, 0.5, 0.75, 1]:\n",
    "e=0.1\n",
    "for c in [-10, -5, -.01,0, 0.1, 0.5, 0.75, 1,1.25, 1.5, 2, 5, 10]:\n",
    "    print(\"c = \", c)\n",
    "    svr1 = SVR(kernel='poly', degree=2, coef0=c, epsilon=e)\n",
    "    svr1 = svr1.fit(Xtr, y1tr)\n",
    "    print(\"\\tR^2: \", svr1.score(Xte, y1te))\n",
    "    svr2 = SVR(kernel='poly', degree=2, coef0=c, epsilon=e)\n",
    "    svr2 = svr1.fit(Xtr, y2tr)\n",
    "    print(\"\\tR^2: \", svr2.score(Xte, y2te))"
   ]
  },
  {
   "cell_type": "markdown",
   "metadata": {
    "collapsed": true
   },
   "source": [
    "# PCA"
   ]
  },
  {
   "cell_type": "code",
   "execution_count": 276,
   "metadata": {
    "collapsed": true
   },
   "outputs": [],
   "source": [
    "from sklearn.decomposition import PCA\n",
    "from sklearn.metrics import silhouette_samples, silhouette_score\n",
    "import matplotlib.cm as cm\n",
    "import seaborn as sns"
   ]
  },
  {
   "cell_type": "code",
   "execution_count": 277,
   "metadata": {
    "collapsed": true
   },
   "outputs": [],
   "source": [
    "X1 = fires[fires.columns[4:8]].copy()\n",
    "X2 = fires[fires.columns[8:12]].copy()\n",
    "y = fires['log'].copy()\n",
    "pca = PCA(n_components=2).fit(X2)\n",
    "transformed = pca.transform(X2)"
   ]
  },
  {
   "cell_type": "code",
   "execution_count": 278,
   "metadata": {
    "collapsed": false
   },
   "outputs": [
    {
     "data": {
      "text/plain": [
       "<matplotlib.collections.PathCollection at 0x7f87c9c9cef0>"
      ]
     },
     "execution_count": 278,
     "metadata": {},
     "output_type": "execute_result"
    },
    {
     "data": {
      "image/png": "[encoded data removed]",
      "text/plain": [
       "<matplotlib.figure.Figure at 0x7f87c9dc6358>"
      ]
     },
     "metadata": {},
     "output_type": "display_data"
    }
   ],
   "source": [
    "plt.scatter(transformed[:,0], transformed[:,1], c=y, cmap=plt.cm.magma)"
   ]
  },
  {
   "cell_type": "code",
   "execution_count": 279,
   "metadata": {
    "collapsed": false
   },
   "outputs": [
    {
     "data": {
      "text/plain": [
       "<matplotlib.collections.PathCollection at 0x7f87c9c2fe80>"
      ]
     },
     "execution_count": 279,
     "metadata": {},
     "output_type": "execute_result"
    },
    {
     "data": {
      "image/png": "[encoded data removed]",
      "text/plain": [
       "<matplotlib.figure.Figure at 0x7f87cbf945f8>"
      ]
     },
     "metadata": {},
     "output_type": "display_data"
    }
   ],
   "source": [
    "pca = PCA(n_components=2).fit(X1[fires.small==True])\n",
    "transformed = pca.transform(X1[fires.small==True])\n",
    "plt.scatter(transformed[:,0], transformed[:,1], c=y[fires.small==True], cmap=plt.cm.magma)"
   ]
  },
  {
   "cell_type": "code",
   "execution_count": 280,
   "metadata": {
    "collapsed": false
   },
   "outputs": [
    {
     "data": {
      "text/plain": [
       "<matplotlib.collections.PathCollection at 0x7f87c9b93eb8>"
      ]
     },
     "execution_count": 280,
     "metadata": {},
     "output_type": "execute_result"
    },
    {
     "data": {
      "image/png": "[encoded data removed]",
      "text/plain": [
       "<matplotlib.figure.Figure at 0x7f87c9c7b630>"
      ]
     },
     "metadata": {},
     "output_type": "display_data"
    }
   ],
   "source": [
    "pca = PCA(n_components=2).fit(X1[fires.small==False])\n",
    "transformed = pca.transform(X1[fires.small==False])\n",
    "plt.scatter(transformed[:,0], transformed[:,1], c=y[fires.small==False], cmap=plt.cm.magma)"
   ]
  },
  {
   "cell_type": "markdown",
   "metadata": {},
   "source": [
    "# SVM from article"
   ]
  },
  {
   "cell_type": "code",
   "execution_count": 604,
   "metadata": {
    "collapsed": false
   },
   "outputs": [],
   "source": [
    "X = fires[fires.columns[8:12]].copy()\n",
    "X[:] = sk_scale(X)\n",
    "Results = pd.DataFrame()\n",
    "R2 = []\n",
    "Results['y'], Results['hat'] = None, None\n",
    "y=fires.log"
   ]
  },
  {
   "cell_type": "code",
   "execution_count": 605,
   "metadata": {
    "collapsed": false
   },
   "outputs": [],
   "source": [
    "for i in range(30):\n",
    "    kf = KFold(n_splits=10, shuffle=True)\n",
    "    for tr, te in kf.split(X):\n",
    "        svr=SVR(kernel='rbf',gamma=0.125, C=3.0, epsilon=0.47)\n",
    "        svr = svr.fit(X.loc[tr], y[tr])\n",
    "        R2.append(svr.score(X.loc[te], y[te]))\n",
    "        y_ = svr.predict(X.loc[te])\n",
    "        df = pd.DataFrame({'y':y[te], 'hat':y_})\n",
    "        Results = Results.append(df, ignore_index=True)\n"
   ]
  },
  {
   "cell_type": "code",
   "execution_count": 606,
   "metadata": {
    "collapsed": false
   },
   "outputs": [],
   "source": [
    "Results['y'] = np.exp(Results.y) - 1\n",
    "Results['hat'] = np.exp(Results.hat) - 1\n",
    "Results['abs_err'] = np.abs(Results.y-Results.hat)"
   ]
  },
  {
   "cell_type": "code",
   "execution_count": 607,
   "metadata": {
    "collapsed": false
   },
   "outputs": [
    {
     "name": "stdout",
     "output_type": "stream",
     "text": [
      "total variance:  18.566830958252567\n",
      "mad:  12.734700313725243\n"
     ]
    }
   ],
   "source": [
    "print('total variance: ', np.mean(np.abs(Results.y-np.mean(Results.y))))\n",
    "print('mad: ', np.mean(Results.abs_err))"
   ]
  },
  {
   "cell_type": "code",
   "execution_count": 608,
   "metadata": {
    "collapsed": false
   },
   "outputs": [
    {
     "data": {
      "text/plain": [
       "(15510, 2)"
      ]
     },
     "execution_count": 608,
     "metadata": {},
     "output_type": "execute_result"
    }
   ],
   "source": [
    "test_grid = np.transpose([range(len(Results)), np.sort(Results.y.values)])\n",
    "test_grid.shape\n",
    "pred_grid = np.transpose([range(len(Results)), Results.sort_values('y').hat.values])\n",
    "pred_grid.shape"
   ]
  },
  {
   "cell_type": "code",
   "execution_count": 609,
   "metadata": {
    "collapsed": false
   },
   "outputs": [
    {
     "data": {
      "image/png": "[encoded data removed]",
      "text/plain": [
       "<matplotlib.figure.Figure at 0x7f87c93b3358>"
      ]
     },
     "metadata": {},
     "output_type": "display_data"
    }
   ],
   "source": [
    "plt.scatter(pred_grid[:,0], pred_grid[:,1], c='b', alpha=0.2)\n",
    "plt.scatter(test_grid[:,0], test_grid[:,1], c='r',alpha=0.01)\n",
    "plt.ylim((0,20))\n",
    "plt.show()"
   ]
  },
  {
   "cell_type": "code",
   "execution_count": 610,
   "metadata": {
    "collapsed": false
   },
   "outputs": [],
   "source": [
    "rec = np.transpose([np.sort(Results['abs_err'].values), \n",
    "        np.array(range(len(Results)))/len(Results)])\n",
    "\n",
    "diff = np.abs(Results.y-np.mean(Results.y))\n",
    "\n",
    "rec_mean = np.transpose([np.sort(diff),\n",
    "        np.array(range(len(Results)))/len(Results) ])"
   ]
  },
  {
   "cell_type": "code",
   "execution_count": 611,
   "metadata": {
    "collapsed": false
   },
   "outputs": [
    {
     "data": {
      "image/png": "[encoded data removed]",
      "text/plain": [
       "<matplotlib.figure.Figure at 0x7f87c93d14a8>"
      ]
     },
     "metadata": {},
     "output_type": "display_data"
    }
   ],
   "source": [
    "plt.plot(rec[:,0], rec[:,1], c='b')\n",
    "plt.plot(rec_mean[:,0], rec_mean[:,1], c='r')\n",
    "plt.xlim((-1,16))\n",
    "plt.show()"
   ]
  },
  {
   "cell_type": "code",
   "execution_count": 612,
   "metadata": {
    "collapsed": false
   },
   "outputs": [
    {
     "data": {
      "text/plain": [
       "15510"
      ]
     },
     "execution_count": 612,
     "metadata": {},
     "output_type": "execute_result"
    }
   ],
   "source": [
    "len(rec_mean)"
   ]
  },
  {
   "cell_type": "code",
   "execution_count": 613,
   "metadata": {
    "collapsed": false
   },
   "outputs": [
    {
     "data": {
      "text/plain": [
       "array([ 12.84729207,  12.84729207,  12.84729207,  12.84729207,\n",
       "        12.84729207,  12.84729207,  12.84729207,  12.84729207,\n",
       "        12.84729207,  12.84729207,  12.84729207,  12.84729207,\n",
       "        12.84729207,  12.84729207,  12.84729207,  12.84729207,\n",
       "        12.84729207,  12.84729207,  12.84729207,  12.84729207,\n",
       "        12.84729207,  12.84729207,  12.84729207,  12.84729207,\n",
       "        12.84729207,  12.84729207,  12.84729207,  12.84729207,\n",
       "        12.84729207,  12.84729207,  12.84729207,  12.84729207,\n",
       "        12.84729207,  12.84729207,  12.84729207,  12.84729207,\n",
       "        12.84729207,  12.84729207,  12.84729207,  12.84729207,\n",
       "        12.84729207,  12.84729207,  12.84729207,  12.84729207,\n",
       "        12.84729207,  12.84729207,  12.84729207,  12.84729207,\n",
       "        12.84729207,  12.84729207])"
      ]
     },
     "execution_count": 613,
     "metadata": {},
     "output_type": "execute_result"
    }
   ],
   "source": [
    "np.sort(diff)[8000:8050]"
   ]
  },
  {
   "cell_type": "code",
   "execution_count": null,
   "metadata": {
    "collapsed": true
   },
   "outputs": [],
   "source": []
  },
  {
   "cell_type": "code",
   "execution_count": null,
   "metadata": {
    "collapsed": true
   },
   "outputs": [],
   "source": []
  },
  {
   "cell_type": "code",
   "execution_count": 614,
   "metadata": {
    "collapsed": false
   },
   "outputs": [
    {
     "data": {
      "text/plain": [
       "15510"
      ]
     },
     "execution_count": 614,
     "metadata": {},
     "output_type": "execute_result"
    }
   ],
   "source": [
    "len(test_grid)"
   ]
  },
  {
   "cell_type": "code",
   "execution_count": 615,
   "metadata": {
    "collapsed": false
   },
   "outputs": [
    {
     "data": {
      "text/plain": [
       "array([[  8.00000000e+03,   7.50000000e-01],\n",
       "       [  8.00100000e+03,   7.50000000e-01],\n",
       "       [  8.00200000e+03,   7.50000000e-01],\n",
       "       [  8.00300000e+03,   7.50000000e-01],\n",
       "       [  8.00400000e+03,   7.50000000e-01],\n",
       "       [  8.00500000e+03,   7.50000000e-01],\n",
       "       [  8.00600000e+03,   7.50000000e-01],\n",
       "       [  8.00700000e+03,   7.50000000e-01],\n",
       "       [  8.00800000e+03,   7.50000000e-01],\n",
       "       [  8.00900000e+03,   7.50000000e-01],\n",
       "       [  8.01000000e+03,   7.60000000e-01],\n",
       "       [  8.01100000e+03,   7.60000000e-01],\n",
       "       [  8.01200000e+03,   7.60000000e-01],\n",
       "       [  8.01300000e+03,   7.60000000e-01],\n",
       "       [  8.01400000e+03,   7.60000000e-01],\n",
       "       [  8.01500000e+03,   7.60000000e-01],\n",
       "       [  8.01600000e+03,   7.60000000e-01],\n",
       "       [  8.01700000e+03,   7.60000000e-01],\n",
       "       [  8.01800000e+03,   7.60000000e-01],\n",
       "       [  8.01900000e+03,   7.60000000e-01],\n",
       "       [  8.02000000e+03,   7.60000000e-01],\n",
       "       [  8.02100000e+03,   7.60000000e-01],\n",
       "       [  8.02200000e+03,   7.60000000e-01],\n",
       "       [  8.02300000e+03,   7.60000000e-01],\n",
       "       [  8.02400000e+03,   7.60000000e-01],\n",
       "       [  8.02500000e+03,   7.60000000e-01],\n",
       "       [  8.02600000e+03,   7.60000000e-01],\n",
       "       [  8.02700000e+03,   7.60000000e-01],\n",
       "       [  8.02800000e+03,   7.60000000e-01],\n",
       "       [  8.02900000e+03,   7.60000000e-01],\n",
       "       [  8.03000000e+03,   7.60000000e-01],\n",
       "       [  8.03100000e+03,   7.60000000e-01],\n",
       "       [  8.03200000e+03,   7.60000000e-01],\n",
       "       [  8.03300000e+03,   7.60000000e-01],\n",
       "       [  8.03400000e+03,   7.60000000e-01],\n",
       "       [  8.03500000e+03,   7.60000000e-01],\n",
       "       [  8.03600000e+03,   7.60000000e-01],\n",
       "       [  8.03700000e+03,   7.60000000e-01],\n",
       "       [  8.03800000e+03,   7.60000000e-01],\n",
       "       [  8.03900000e+03,   7.60000000e-01],\n",
       "       [  8.04000000e+03,   7.70000000e-01],\n",
       "       [  8.04100000e+03,   7.70000000e-01],\n",
       "       [  8.04200000e+03,   7.70000000e-01],\n",
       "       [  8.04300000e+03,   7.70000000e-01],\n",
       "       [  8.04400000e+03,   7.70000000e-01],\n",
       "       [  8.04500000e+03,   7.70000000e-01],\n",
       "       [  8.04600000e+03,   7.70000000e-01],\n",
       "       [  8.04700000e+03,   7.70000000e-01],\n",
       "       [  8.04800000e+03,   7.70000000e-01],\n",
       "       [  8.04900000e+03,   7.70000000e-01]])"
      ]
     },
     "execution_count": 615,
     "metadata": {},
     "output_type": "execute_result"
    }
   ],
   "source": [
    "test_grid[8000:8050]"
   ]
  },
  {
   "cell_type": "code",
   "execution_count": 616,
   "metadata": {
    "collapsed": false
   },
   "outputs": [
    {
     "data": {
      "text/plain": [
       "array([ 0.75,  0.75,  0.75,  0.75,  0.75,  0.75,  0.75,  0.75,  0.75,\n",
       "        0.75,  0.76,  0.76,  0.76,  0.76,  0.76,  0.76,  0.76,  0.76,\n",
       "        0.76,  0.76,  0.76,  0.76,  0.76,  0.76,  0.76,  0.76,  0.76,\n",
       "        0.76,  0.76,  0.76,  0.76,  0.76,  0.76,  0.76,  0.76,  0.76,\n",
       "        0.76,  0.76,  0.76,  0.76,  0.77,  0.77,  0.77,  0.77,  0.77,\n",
       "        0.77,  0.77,  0.77,  0.77,  0.77])"
      ]
     },
     "execution_count": 616,
     "metadata": {},
     "output_type": "execute_result"
    }
   ],
   "source": [
    "np.sort(Results.y.values)[8000:8050]"
   ]
  },
  {
   "cell_type": "code",
   "execution_count": 617,
   "metadata": {
    "collapsed": false
   },
   "outputs": [
    {
     "data": {
      "text/plain": [
       "12.847292069632449"
      ]
     },
     "execution_count": 617,
     "metadata": {},
     "output_type": "execute_result"
    }
   ],
   "source": [
    "np.mean(Results.y)"
   ]
  },
  {
   "cell_type": "code",
   "execution_count": null,
   "metadata": {
    "collapsed": true
   },
   "outputs": [],
   "source": []
  }
 ],
 "metadata": {
  "kernelspec": {
   "display_name": "Python 3",
   "language": "python",
   "name": "python3"
  },
  "language_info": {
   "codemirror_mode": {
    "name": "ipython",
    "version": 3
   },
   "file_extension": ".py",
   "mimetype": "text/x-python",
   "name": "python",
   "nbconvert_exporter": "python",
   "pygments_lexer": "ipython3",
   "version": "3.6.0"
  }
 },
 "nbformat": 4,
 "nbformat_minor": 2
}
