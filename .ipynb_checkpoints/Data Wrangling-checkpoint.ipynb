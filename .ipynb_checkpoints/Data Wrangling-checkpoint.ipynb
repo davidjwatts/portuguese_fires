{
 "cells": [
  {
   "cell_type": "code",
   "execution_count": 1,
   "metadata": {
    "collapsed": false
   },
   "outputs": [],
   "source": [
    "import matplotlib.pyplot as plt\n",
    "import numpy as np\n",
    "import pandas as pd\n",
    "import utils\n",
    "\n",
    "%matplotlib inline"
   ]
  },
  {
   "cell_type": "code",
   "execution_count": 2,
   "metadata": {
    "collapsed": false
   },
   "outputs": [],
   "source": [
    "fires = utils.wrangle()"
   ]
  },
  {
   "cell_type": "code",
   "execution_count": 3,
   "metadata": {
    "collapsed": false
   },
   "outputs": [
    {
     "name": "stdout",
     "output_type": "stream",
     "text": [
      "<class 'pandas.core.frame.DataFrame'>\n",
      "RangeIndex: 517 entries, 0 to 516\n",
      "Data columns (total 14 columns):\n",
      "X            517 non-null int64\n",
      "Y            517 non-null int64\n",
      "month        517 non-null object\n",
      "day          517 non-null int64\n",
      "FFMC         517 non-null float64\n",
      "DMC          517 non-null float64\n",
      "DC           517 non-null float64\n",
      "ISI          517 non-null float64\n",
      "temp         517 non-null float64\n",
      "RH           517 non-null int64\n",
      "wind         517 non-null float64\n",
      "rain         517 non-null float64\n",
      "area         517 non-null float64\n",
      "log(area)    517 non-null float64\n",
      "dtypes: float64(9), int64(4), object(1)\n",
      "memory usage: 56.6+ KB\n"
     ]
    }
   ],
   "source": [
    "fires.info()"
   ]
  }
 ],
 "metadata": {
  "kernelspec": {
   "display_name": "Python 3",
   "language": "python",
   "name": "python3"
  },
  "language_info": {
   "codemirror_mode": {
    "name": "ipython",
    "version": 3
   },
   "file_extension": ".py",
   "mimetype": "text/x-python",
   "name": "python",
   "nbconvert_exporter": "python",
   "pygments_lexer": "ipython3",
   "version": "3.6.0"
  }
 },
 "nbformat": 4,
 "nbformat_minor": 2
}
